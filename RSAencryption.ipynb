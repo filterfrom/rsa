{
 "cells": [
  {
   "cell_type": "markdown",
   "metadata": {},
   "source": [
    "Welcome to this Jupyter notebook on RSA encryption (minus the jargons)! This notebook is a combination of code descriptions and the actual code. You can execute each section by selecting and clicking \"RUN\" in each section or just go to \"CELL\" from the top-level menu and select \"RUN ALL\" \n",
    "\n",
    "Recommend you go along with any RSA examples such as that on Wikipedia: https://simple.wikipedia.org/wiki/RSA_algorithm"
   ]
  },
  {
   "cell_type": "markdown",
   "metadata": {},
   "source": [
    "Some standard python libraries that we will use"
   ]
  },
  {
   "cell_type": "code",
   "execution_count": 10,
   "metadata": {},
   "outputs": [],
   "source": [
    "import random\n",
    "import math"
   ]
  },
  {
   "cell_type": "markdown",
   "metadata": {},
   "source": [
    "The below function \"modinverse\" returns the modular multiplicative inverse given numbers e and phi. \n",
    "\n",
    "Do you know modulo arithmetic? If yes, you can skip this section. If not, read on!\n",
    "\n",
    "You have definitely seen an analog clock. An analog clock is an example of numbers wrapping around after 12. After 12, the next number 13 is represented as 1, 14 as 2 and so on. In modulo maths, we can denote, 15 as congruent to 3 (modulo 12). In the same note, 27 is also conngruent to 3 (modulo 12). So, 3, 15, 27, 39 are all the same thing (modulo 12).\n",
    "\n",
    "You have probably heard of the inverse of a number. The inverse of a number n is (1/n), which is the number you need to multiply n with to get 1. But, there is another inverse we are interested here, called the modular multiplicative inverse. \n",
    "\n",
    "Let's first look at an example, For modulo 20, (which is another way of saying there is no number 21), 3 is a modular multiplicative inverse of 7. This is because 3 multiplied by 7 yeilds 21, which is 1 (modulo 20). Another example, 3 is a modular multiplicative inverse of 5 (modulo 7). Because 3 multiplied by 5 is 15 which is 1 mod (7).\n",
    "\n",
    "A modular inverse of an integer number a is an integer x such that the product ax is congruent to 1 with respect to modulus m. So, in simple words its the number to which you need to multiply to get a remainder 1 in modulo arithmetic. "
   ]
  },
  {
   "cell_type": "code",
   "execution_count": 11,
   "metadata": {},
   "outputs": [],
   "source": [
    "def modinverse(e, phi):\n",
    "    e = e % phi\n",
    "    for x in range(1, phi):\n",
    "        if ((e * x) % phi == 1):\n",
    "            return x\n",
    "    return 1"
   ]
  },
  {
   "cell_type": "markdown",
   "metadata": {},
   "source": [
    "(optional) side-step: Test out your idea of multiplicative inverses below!"
   ]
  },
  {
   "cell_type": "code",
   "execution_count": 39,
   "metadata": {
    "scrolled": false
   },
   "outputs": [
    {
     "name": "stdout",
     "output_type": "stream",
     "text": [
      "9\n"
     ]
    }
   ],
   "source": [
    "print(modinverse(9, 20))"
   ]
  },
  {
   "cell_type": "markdown",
   "metadata": {},
   "source": [
    "The first step is to choose two prime numbers p & q. You can feed your primes below if you like."
   ]
  },
  {
   "cell_type": "code",
   "execution_count": 40,
   "metadata": {},
   "outputs": [],
   "source": [
    "p = 23\n",
    "q = 29"
   ]
  },
  {
   "cell_type": "markdown",
   "metadata": {},
   "source": [
    "We will then compute the product of the two primes. We call this product n, also known as the public modulus."
   ]
  },
  {
   "cell_type": "code",
   "execution_count": 41,
   "metadata": {},
   "outputs": [],
   "source": [
    "n = p * q"
   ]
  },
  {
   "cell_type": "markdown",
   "metadata": {},
   "source": [
    "The next step is to compute (p-1) * (q-1). We call this phi."
   ]
  },
  {
   "cell_type": "code",
   "execution_count": 42,
   "metadata": {
    "scrolled": true
   },
   "outputs": [
    {
     "name": "stdout",
     "output_type": "stream",
     "text": [
      "Computed n = 667 and phi = 616\n"
     ]
    }
   ],
   "source": [
    "phi = (p-1) * (q-1)\n",
    "print(\"Computed n = {} and phi = {}\".format(n, phi))"
   ]
  },
  {
   "cell_type": "markdown",
   "metadata": {},
   "source": [
    "Next, we need to choose a public exponent. A public exponent is an integer e which is less than phi, and greater than 1. Another condition is e and phi shouldnt have any common factors other than 1.\n",
    "\n",
    "Mathematically, the greatest common divisor, gcd, of e and phi should be 1, another way to say e should be co-prime to phi. \n",
    "\n",
    "e is known as the public exponent. Its public meaning it is not kept a secret.\n",
    "\n",
    "Try re-running the below section and note that e can be different each time!"
   ]
  },
  {
   "cell_type": "code",
   "execution_count": 20,
   "metadata": {},
   "outputs": [
    {
     "name": "stdout",
     "output_type": "stream",
     "text": [
      "Computed value of e is 39\n"
     ]
    }
   ],
   "source": [
    "e = random.randrange(1,phi)\n",
    "while (math.gcd(e,phi) != 1):\n",
    "    e = random.randrange(1,phi)\n",
    "print(\"Computed value of e is\", e)"
   ]
  },
  {
   "cell_type": "markdown",
   "metadata": {},
   "source": [
    "If you want to choose your own e, do so below:"
   ]
  },
  {
   "cell_type": "code",
   "execution_count": 21,
   "metadata": {},
   "outputs": [],
   "source": [
    "e = e"
   ]
  },
  {
   "cell_type": "markdown",
   "metadata": {},
   "source": [
    "We now have to calculate the modular multiplicative inverse of e (modulo phi) and we will call it d. \n",
    "\n",
    "As mentioned before, e * d should yeild 1 (modulo phi) for it to be a modular multiplicative inverse"
   ]
  },
  {
   "cell_type": "code",
   "execution_count": 22,
   "metadata": {},
   "outputs": [
    {
     "name": "stdout",
     "output_type": "stream",
     "text": [
      "Computed value of d is 119\n"
     ]
    }
   ],
   "source": [
    "d = modinverse(e, phi)\n",
    "print(\"Computed value of d is\", d)"
   ]
  },
  {
   "cell_type": "markdown",
   "metadata": {},
   "source": [
    "We are ready to generate our keys!\n",
    "\n",
    "The RSA Public key consists of \n",
    "    (1) n, which is the product of two primes also known as the modulus, and \n",
    "    (2) e, the public exponent. \n",
    "\n",
    "In typical practice, the exponent is chosen as one of 3, 5, 17, 257, 65537. It doesn't need to be, but is often chosen so because they make the exponentiation process faster. \n",
    "\n",
    "You can check these out in any website's certificate."
   ]
  },
  {
   "cell_type": "code",
   "execution_count": 176,
   "metadata": {},
   "outputs": [
    {
     "name": "stdout",
     "output_type": "stream",
     "text": [
      "Computed Public Key in format n, e is (33, 17)\n"
     ]
    }
   ],
   "source": [
    "print(\"Computed Public Key in format n, e is ({}, {})\".format(n, e))"
   ]
  },
  {
   "cell_type": "markdown",
   "metadata": {},
   "source": [
    "The RSA Private key consists of \n",
    "    (1) p, q, the actual two primes \n",
    "    (2) d, the private exponent\n",
    "\n",
    "It is possible to derive the public key from the private key because both the value of n and e can be derived from it."
   ]
  },
  {
   "cell_type": "code",
   "execution_count": 177,
   "metadata": {},
   "outputs": [
    {
     "name": "stdout",
     "output_type": "stream",
     "text": [
      "Computed Private Key in format d, p, q is (13, 11, 3)\n"
     ]
    }
   ],
   "source": [
    "print(\"Computed Private Key in format d, p, q is ({}, {}, {})\".format(d, p, q))"
   ]
  },
  {
   "cell_type": "markdown",
   "metadata": {},
   "source": [
    "Now for the fun part!\n",
    "\n",
    "Lets assign a number as message. This is a simple use case, and in real world, there would be padding to deter certain attacks. Make sure to choose a message smaller than n!\n",
    "\n",
    "Try using message as 0 or 1. What happens? Also what happens when the message is n-1 or n? When its bigger? Does this still work? Why not?"
   ]
  },
  {
   "cell_type": "code",
   "execution_count": 178,
   "metadata": {},
   "outputs": [],
   "source": [
    "message = 7"
   ]
  },
  {
   "cell_type": "code",
   "execution_count": 179,
   "metadata": {},
   "outputs": [
    {
     "name": "stdout",
     "output_type": "stream",
     "text": [
      "The input message is  7\n"
     ]
    }
   ],
   "source": [
    "print (\"The input message is \", message)"
   ]
  },
  {
   "cell_type": "markdown",
   "metadata": {},
   "source": [
    "We are ready to encrypt!\n",
    "\n",
    "The encryption operation to calculate ciphertext is\n",
    "\n",
    "c = m ^ e (mod n) \n",
    "\n",
    "where c is the ciphertext, m is the message, e is the public exponent, and n is the product of primes."
   ]
  },
  {
   "cell_type": "code",
   "execution_count": 180,
   "metadata": {},
   "outputs": [
    {
     "name": "stdout",
     "output_type": "stream",
     "text": [
      "The ciphertext generated is  28\n"
     ]
    }
   ],
   "source": [
    "encrypted = (message ** e) % n\n",
    "print (\"The ciphertext generated is \", encrypted)"
   ]
  },
  {
   "cell_type": "markdown",
   "metadata": {},
   "source": [
    "We are ready to now decrypt our generated ciphertext!\n",
    "\n",
    "The decryption operation is very similar to encryption, as\n",
    "\n",
    "p = c ^ d mod (p * q). \n",
    "\n",
    "where p is the plaintext, c is the ciphertext, d is the private exponent, and p and q are the primes."
   ]
  },
  {
   "cell_type": "code",
   "execution_count": 181,
   "metadata": {},
   "outputs": [
    {
     "name": "stdout",
     "output_type": "stream",
     "text": [
      "The plaintext is  7\n"
     ]
    }
   ],
   "source": [
    "plaintext = (encrypted ** d) % (p * q)\n",
    "print (\"The plaintext is \", plaintext)"
   ]
  },
  {
   "cell_type": "markdown",
   "metadata": {},
   "source": [
    "If you see the plaintext generated is the same as that of the original message, you are successful. "
   ]
  },
  {
   "cell_type": "markdown",
   "metadata": {},
   "source": [
    "Footnote: The RSA used in the above example is for demo purposes only and should not be used in any real world scenarios. RSA without padding is very insecure. Because RSA is slow, RSA is seldom used to encrypt the actual messages; rather, a random symmetric key is generated, and the key itself is encrypted using RSA, and the actual message is encrypted using the symmetric key such as AES."
   ]
  }
 ],
 "metadata": {
  "kernelspec": {
   "display_name": "Python 3",
   "language": "python",
   "name": "python3"
  },
  "language_info": {
   "codemirror_mode": {
    "name": "ipython",
    "version": 3
   },
   "file_extension": ".py",
   "mimetype": "text/x-python",
   "name": "python",
   "nbconvert_exporter": "python",
   "pygments_lexer": "ipython3",
   "version": "3.8.7"
  }
 },
 "nbformat": 4,
 "nbformat_minor": 4
}
